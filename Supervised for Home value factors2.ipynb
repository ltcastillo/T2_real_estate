{
 "cells": [
  {
   "cell_type": "code",
   "execution_count": 1,
   "metadata": {},
   "outputs": [],
   "source": [
    "import numpy as np\n",
    "import pandas as pd\n",
    "from pathlib import Path\n",
    "from collections import Counter"
   ]
  },
  {
   "cell_type": "code",
   "execution_count": 2,
   "metadata": {},
   "outputs": [
    {
     "data": {
      "text/html": [
       "<div>\n",
       "<style scoped>\n",
       "    .dataframe tbody tr th:only-of-type {\n",
       "        vertical-align: middle;\n",
       "    }\n",
       "\n",
       "    .dataframe tbody tr th {\n",
       "        vertical-align: top;\n",
       "    }\n",
       "\n",
       "    .dataframe thead th {\n",
       "        text-align: right;\n",
       "    }\n",
       "</style>\n",
       "<table border=\"1\" class=\"dataframe\">\n",
       "  <thead>\n",
       "    <tr style=\"text-align: right;\">\n",
       "      <th></th>\n",
       "      <th>regionname</th>\n",
       "      <th>city</th>\n",
       "      <th>Incr_Per</th>\n",
       "      <th>date</th>\n",
       "      <th>Incr_type</th>\n",
       "      <th>Year</th>\n",
       "      <th>month_date_yyyymm</th>\n",
       "      <th>postal_code</th>\n",
       "      <th>zip_name</th>\n",
       "      <th>active_listing_count_yy</th>\n",
       "      <th>median_days_on_market_yy</th>\n",
       "      <th>new_listing_count_yy</th>\n",
       "      <th>pending_ratio_yy</th>\n",
       "    </tr>\n",
       "  </thead>\n",
       "  <tbody>\n",
       "    <tr>\n",
       "      <th>0</th>\n",
       "      <td>94109</td>\n",
       "      <td>San Francisco</td>\n",
       "      <td>0.011728</td>\n",
       "      <td>202008</td>\n",
       "      <td>Incr</td>\n",
       "      <td>2020</td>\n",
       "      <td>202007</td>\n",
       "      <td>94109</td>\n",
       "      <td>san francisco, ca</td>\n",
       "      <td>0.7536</td>\n",
       "      <td>-0.0118</td>\n",
       "      <td>0.5000</td>\n",
       "      <td>-0.2405</td>\n",
       "    </tr>\n",
       "    <tr>\n",
       "      <th>1</th>\n",
       "      <td>94501</td>\n",
       "      <td>Alameda</td>\n",
       "      <td>0.036315</td>\n",
       "      <td>202008</td>\n",
       "      <td>Incr</td>\n",
       "      <td>2020</td>\n",
       "      <td>202007</td>\n",
       "      <td>94501</td>\n",
       "      <td>alameda, ca</td>\n",
       "      <td>-0.2143</td>\n",
       "      <td>0.0909</td>\n",
       "      <td>-0.3333</td>\n",
       "      <td>0.5931</td>\n",
       "    </tr>\n",
       "    <tr>\n",
       "      <th>2</th>\n",
       "      <td>94558</td>\n",
       "      <td>Napa</td>\n",
       "      <td>0.021612</td>\n",
       "      <td>202008</td>\n",
       "      <td>Incr</td>\n",
       "      <td>2020</td>\n",
       "      <td>202007</td>\n",
       "      <td>94558</td>\n",
       "      <td>napa, ca</td>\n",
       "      <td>-0.2304</td>\n",
       "      <td>-0.0571</td>\n",
       "      <td>0.0000</td>\n",
       "      <td>0.2472</td>\n",
       "    </tr>\n",
       "    <tr>\n",
       "      <th>3</th>\n",
       "      <td>94536</td>\n",
       "      <td>Fremont</td>\n",
       "      <td>0.010591</td>\n",
       "      <td>202008</td>\n",
       "      <td>Incr</td>\n",
       "      <td>2020</td>\n",
       "      <td>202007</td>\n",
       "      <td>94536</td>\n",
       "      <td>fremont, ca</td>\n",
       "      <td>-0.5620</td>\n",
       "      <td>-0.1905</td>\n",
       "      <td>-0.1667</td>\n",
       "      <td>0.7942</td>\n",
       "    </tr>\n",
       "    <tr>\n",
       "      <th>4</th>\n",
       "      <td>95035</td>\n",
       "      <td>Milpitas</td>\n",
       "      <td>0.108590</td>\n",
       "      <td>202008</td>\n",
       "      <td>Huge_Incr</td>\n",
       "      <td>2020</td>\n",
       "      <td>202007</td>\n",
       "      <td>95035</td>\n",
       "      <td>milpitas, ca</td>\n",
       "      <td>-0.4862</td>\n",
       "      <td>-0.3235</td>\n",
       "      <td>-0.1765</td>\n",
       "      <td>0.2946</td>\n",
       "    </tr>\n",
       "  </tbody>\n",
       "</table>\n",
       "</div>"
      ],
      "text/plain": [
       "   regionname           city  Incr_Per    date  Incr_type  Year  \\\n",
       "0       94109  San Francisco  0.011728  202008       Incr  2020   \n",
       "1       94501        Alameda  0.036315  202008       Incr  2020   \n",
       "2       94558           Napa  0.021612  202008       Incr  2020   \n",
       "3       94536        Fremont  0.010591  202008       Incr  2020   \n",
       "4       95035       Milpitas  0.108590  202008  Huge_Incr  2020   \n",
       "\n",
       "   month_date_yyyymm  postal_code           zip_name  active_listing_count_yy  \\\n",
       "0             202007        94109  san francisco, ca                   0.7536   \n",
       "1             202007        94501        alameda, ca                  -0.2143   \n",
       "2             202007        94558           napa, ca                  -0.2304   \n",
       "3             202007        94536        fremont, ca                  -0.5620   \n",
       "4             202007        95035       milpitas, ca                  -0.4862   \n",
       "\n",
       "   median_days_on_market_yy  new_listing_count_yy  pending_ratio_yy  \n",
       "0                   -0.0118                0.5000           -0.2405  \n",
       "1                    0.0909               -0.3333            0.5931  \n",
       "2                   -0.0571                0.0000            0.2472  \n",
       "3                   -0.1905               -0.1667            0.7942  \n",
       "4                   -0.3235               -0.1765            0.2946  "
      ]
     },
     "execution_count": 2,
     "metadata": {},
     "output_type": "execute_result"
    }
   ],
   "source": [
    "file_path = Path('factor_df.csv')\n",
    "df = pd.read_csv(file_path)\n",
    "df.head()"
   ]
  },
  {
   "cell_type": "code",
   "execution_count": 3,
   "metadata": {},
   "outputs": [
    {
     "data": {
      "text/html": [
       "<div>\n",
       "<style scoped>\n",
       "    .dataframe tbody tr th:only-of-type {\n",
       "        vertical-align: middle;\n",
       "    }\n",
       "\n",
       "    .dataframe tbody tr th {\n",
       "        vertical-align: top;\n",
       "    }\n",
       "\n",
       "    .dataframe thead th {\n",
       "        text-align: right;\n",
       "    }\n",
       "</style>\n",
       "<table border=\"1\" class=\"dataframe\">\n",
       "  <thead>\n",
       "    <tr style=\"text-align: right;\">\n",
       "      <th></th>\n",
       "      <th>regionname</th>\n",
       "      <th>city</th>\n",
       "      <th>Incr_Per</th>\n",
       "      <th>date</th>\n",
       "      <th>Incr_type</th>\n",
       "      <th>Year</th>\n",
       "      <th>month_date_yyyymm</th>\n",
       "      <th>postal_code</th>\n",
       "      <th>zip_name</th>\n",
       "      <th>active_listing_count_yy</th>\n",
       "      <th>median_days_on_market_yy</th>\n",
       "      <th>new_listing_count_yy</th>\n",
       "      <th>pending_ratio_yy</th>\n",
       "    </tr>\n",
       "  </thead>\n",
       "  <tbody>\n",
       "    <tr>\n",
       "      <th>0</th>\n",
       "      <td>94109</td>\n",
       "      <td>San Francisco</td>\n",
       "      <td>0.011728</td>\n",
       "      <td>202008</td>\n",
       "      <td>Incr</td>\n",
       "      <td>2020</td>\n",
       "      <td>202007</td>\n",
       "      <td>94109</td>\n",
       "      <td>san francisco, ca</td>\n",
       "      <td>0.7536</td>\n",
       "      <td>-0.0118</td>\n",
       "      <td>0.5000</td>\n",
       "      <td>-0.2405</td>\n",
       "    </tr>\n",
       "    <tr>\n",
       "      <th>1</th>\n",
       "      <td>94501</td>\n",
       "      <td>Alameda</td>\n",
       "      <td>0.036315</td>\n",
       "      <td>202008</td>\n",
       "      <td>Incr</td>\n",
       "      <td>2020</td>\n",
       "      <td>202007</td>\n",
       "      <td>94501</td>\n",
       "      <td>alameda, ca</td>\n",
       "      <td>-0.2143</td>\n",
       "      <td>0.0909</td>\n",
       "      <td>-0.3333</td>\n",
       "      <td>0.5931</td>\n",
       "    </tr>\n",
       "    <tr>\n",
       "      <th>2</th>\n",
       "      <td>94558</td>\n",
       "      <td>Napa</td>\n",
       "      <td>0.021612</td>\n",
       "      <td>202008</td>\n",
       "      <td>Incr</td>\n",
       "      <td>2020</td>\n",
       "      <td>202007</td>\n",
       "      <td>94558</td>\n",
       "      <td>napa, ca</td>\n",
       "      <td>-0.2304</td>\n",
       "      <td>-0.0571</td>\n",
       "      <td>0.0000</td>\n",
       "      <td>0.2472</td>\n",
       "    </tr>\n",
       "    <tr>\n",
       "      <th>3</th>\n",
       "      <td>94536</td>\n",
       "      <td>Fremont</td>\n",
       "      <td>0.010591</td>\n",
       "      <td>202008</td>\n",
       "      <td>Incr</td>\n",
       "      <td>2020</td>\n",
       "      <td>202007</td>\n",
       "      <td>94536</td>\n",
       "      <td>fremont, ca</td>\n",
       "      <td>-0.5620</td>\n",
       "      <td>-0.1905</td>\n",
       "      <td>-0.1667</td>\n",
       "      <td>0.7942</td>\n",
       "    </tr>\n",
       "    <tr>\n",
       "      <th>4</th>\n",
       "      <td>95035</td>\n",
       "      <td>Milpitas</td>\n",
       "      <td>0.108590</td>\n",
       "      <td>202008</td>\n",
       "      <td>Huge_Incr</td>\n",
       "      <td>2020</td>\n",
       "      <td>202007</td>\n",
       "      <td>95035</td>\n",
       "      <td>milpitas, ca</td>\n",
       "      <td>-0.4862</td>\n",
       "      <td>-0.3235</td>\n",
       "      <td>-0.1765</td>\n",
       "      <td>0.2946</td>\n",
       "    </tr>\n",
       "  </tbody>\n",
       "</table>\n",
       "</div>"
      ],
      "text/plain": [
       "   regionname           city  Incr_Per    date  Incr_type  Year  \\\n",
       "0       94109  San Francisco  0.011728  202008       Incr  2020   \n",
       "1       94501        Alameda  0.036315  202008       Incr  2020   \n",
       "2       94558           Napa  0.021612  202008       Incr  2020   \n",
       "3       94536        Fremont  0.010591  202008       Incr  2020   \n",
       "4       95035       Milpitas  0.108590  202008  Huge_Incr  2020   \n",
       "\n",
       "   month_date_yyyymm  postal_code           zip_name  active_listing_count_yy  \\\n",
       "0             202007        94109  san francisco, ca                   0.7536   \n",
       "1             202007        94501        alameda, ca                  -0.2143   \n",
       "2             202007        94558           napa, ca                  -0.2304   \n",
       "3             202007        94536        fremont, ca                  -0.5620   \n",
       "4             202007        95035       milpitas, ca                  -0.4862   \n",
       "\n",
       "   median_days_on_market_yy  new_listing_count_yy  pending_ratio_yy  \n",
       "0                   -0.0118                0.5000           -0.2405  \n",
       "1                    0.0909               -0.3333            0.5931  \n",
       "2                   -0.0571                0.0000            0.2472  \n",
       "3                   -0.1905               -0.1667            0.7942  \n",
       "4                   -0.3235               -0.1765            0.2946  "
      ]
     },
     "execution_count": 3,
     "metadata": {},
     "output_type": "execute_result"
    }
   ],
   "source": [
    "df=df.dropna()\n",
    "\n",
    "df.head()"
   ]
  },
  {
   "cell_type": "code",
   "execution_count": 4,
   "metadata": {},
   "outputs": [
    {
     "data": {
      "text/plain": [
       "484"
      ]
     },
     "execution_count": 4,
     "metadata": {},
     "output_type": "execute_result"
    }
   ],
   "source": [
    "len(df)"
   ]
  },
  {
   "cell_type": "code",
   "execution_count": 5,
   "metadata": {},
   "outputs": [],
   "source": [
    "df.loc[(df['Incr_type']=='Huge_Incr'), 'Incr_type'] = \"Incr\"\n",
    "df.loc[(df['Incr_type']=='Huge_Decr'), 'Incr_type'] = \"Decr\""
   ]
  },
  {
   "cell_type": "code",
   "execution_count": 6,
   "metadata": {},
   "outputs": [
    {
     "data": {
      "text/html": [
       "<div>\n",
       "<style scoped>\n",
       "    .dataframe tbody tr th:only-of-type {\n",
       "        vertical-align: middle;\n",
       "    }\n",
       "\n",
       "    .dataframe tbody tr th {\n",
       "        vertical-align: top;\n",
       "    }\n",
       "\n",
       "    .dataframe thead th {\n",
       "        text-align: right;\n",
       "    }\n",
       "</style>\n",
       "<table border=\"1\" class=\"dataframe\">\n",
       "  <thead>\n",
       "    <tr style=\"text-align: right;\">\n",
       "      <th></th>\n",
       "      <th>median_days_on_market_yy</th>\n",
       "      <th>pending_ratio_yy</th>\n",
       "    </tr>\n",
       "  </thead>\n",
       "  <tbody>\n",
       "    <tr>\n",
       "      <th>0</th>\n",
       "      <td>-0.0118</td>\n",
       "      <td>-0.2405</td>\n",
       "    </tr>\n",
       "    <tr>\n",
       "      <th>1</th>\n",
       "      <td>0.0909</td>\n",
       "      <td>0.5931</td>\n",
       "    </tr>\n",
       "    <tr>\n",
       "      <th>2</th>\n",
       "      <td>-0.0571</td>\n",
       "      <td>0.2472</td>\n",
       "    </tr>\n",
       "    <tr>\n",
       "      <th>3</th>\n",
       "      <td>-0.1905</td>\n",
       "      <td>0.7942</td>\n",
       "    </tr>\n",
       "    <tr>\n",
       "      <th>4</th>\n",
       "      <td>-0.3235</td>\n",
       "      <td>0.2946</td>\n",
       "    </tr>\n",
       "  </tbody>\n",
       "</table>\n",
       "</div>"
      ],
      "text/plain": [
       "   median_days_on_market_yy  pending_ratio_yy\n",
       "0                   -0.0118           -0.2405\n",
       "1                    0.0909            0.5931\n",
       "2                   -0.0571            0.2472\n",
       "3                   -0.1905            0.7942\n",
       "4                   -0.3235            0.2946"
      ]
     },
     "execution_count": 6,
     "metadata": {},
     "output_type": "execute_result"
    }
   ],
   "source": [
    "X = df.copy()\n",
    "X = X.drop([\"regionname\", \"city\", \"Incr_Per\", \"date\",\"Year\",\"month_date_yyyymm\",\"postal_code\",\"zip_name\",\"Incr_type\",\"active_listing_count_yy\",\"new_listing_count_yy\"],axis=1)\n",
    "\n",
    "X.head()"
   ]
  },
  {
   "cell_type": "code",
   "execution_count": 7,
   "metadata": {},
   "outputs": [],
   "source": [
    "y = df.Incr_type"
   ]
  },
  {
   "cell_type": "code",
   "execution_count": 8,
   "metadata": {},
   "outputs": [
    {
     "data": {
      "text/plain": [
       "median_days_on_market_yy    float64\n",
       "pending_ratio_yy            float64\n",
       "dtype: object"
      ]
     },
     "execution_count": 8,
     "metadata": {},
     "output_type": "execute_result"
    }
   ],
   "source": [
    "X.dtypes"
   ]
  },
  {
   "cell_type": "code",
   "execution_count": 9,
   "metadata": {},
   "outputs": [],
   "source": [
    "# Create X_train, X_test, y_train, y_test\n",
    "from sklearn.model_selection import train_test_split\n",
    "X_train, X_test, y_train, y_test = train_test_split(X,\n",
    "   y, random_state=1)"
   ]
  },
  {
   "cell_type": "code",
   "execution_count": 10,
   "metadata": {},
   "outputs": [
    {
     "data": {
      "text/plain": [
       "Counter({'Incr': 288, 'Decr': 288})"
      ]
     },
     "execution_count": 10,
     "metadata": {},
     "output_type": "execute_result"
    }
   ],
   "source": [
    "\n",
    "# Resample the training data with SMOTE\n",
    "from imblearn.over_sampling import SMOTE\n",
    "X_resampled, y_resampled = SMOTE(random_state=1,\n",
    "sampling_strategy='auto').fit_resample(\n",
    "   X_train, y_train)\n",
    "Counter(y_resampled)"
   ]
  },
  {
   "cell_type": "code",
   "execution_count": 11,
   "metadata": {},
   "outputs": [
    {
     "data": {
      "text/plain": [
       "LogisticRegression(random_state=1)"
      ]
     },
     "execution_count": 11,
     "metadata": {},
     "output_type": "execute_result"
    }
   ],
   "source": [
    "# Train the Logistic Regression model using the resampled data\n",
    "from sklearn.linear_model import LogisticRegression\n",
    "model = LogisticRegression(solver='lbfgs', random_state=1)\n",
    "model.fit(X_resampled, y_resampled)"
   ]
  },
  {
   "cell_type": "code",
   "execution_count": 12,
   "metadata": {},
   "outputs": [
    {
     "data": {
      "text/plain": [
       "0.6663366336633663"
      ]
     },
     "execution_count": 12,
     "metadata": {},
     "output_type": "execute_result"
    }
   ],
   "source": [
    "# Calculated the balanced accuracy score\n",
    "from sklearn.metrics import balanced_accuracy_score\n",
    "y_pred = model.predict(X_test)\n",
    "balanced_accuracy_score(y_test, y_pred)"
   ]
  },
  {
   "cell_type": "code",
   "execution_count": 13,
   "metadata": {},
   "outputs": [
    {
     "data": {
      "text/plain": [
       "array([[12,  8],\n",
       "       [27, 74]], dtype=int64)"
      ]
     },
     "execution_count": 13,
     "metadata": {},
     "output_type": "execute_result"
    }
   ],
   "source": [
    "# Display the confusion matrix\n",
    "from sklearn.metrics import confusion_matrix\n",
    "y_pred = model.predict(X_test)\n",
    "confusion_matrix(y_test, y_pred)"
   ]
  },
  {
   "cell_type": "code",
   "execution_count": 14,
   "metadata": {},
   "outputs": [
    {
     "name": "stdout",
     "output_type": "stream",
     "text": [
      "                   pre       rec       spe        f1       geo       iba       sup\n",
      "\n",
      "       Decr       0.31      0.60      0.73      0.41      0.66      0.43        20\n",
      "       Incr       0.90      0.73      0.60      0.81      0.66      0.45       101\n",
      "\n",
      "avg / total       0.80      0.71      0.62      0.74      0.66      0.44       121\n",
      "\n"
     ]
    }
   ],
   "source": [
    "# Print the imbalanced classification report\n",
    "from imblearn.metrics import classification_report_imbalanced\n",
    "print(classification_report_imbalanced(y_test, y_pred))"
   ]
  },
  {
   "cell_type": "code",
   "execution_count": null,
   "metadata": {},
   "outputs": [],
   "source": []
  }
 ],
 "metadata": {
  "kernelspec": {
   "display_name": "Pythondata",
   "language": "python",
   "name": "pythondata"
  },
  "language_info": {
   "codemirror_mode": {
    "name": "ipython",
    "version": 3
   },
   "file_extension": ".py",
   "mimetype": "text/x-python",
   "name": "python",
   "nbconvert_exporter": "python",
   "pygments_lexer": "ipython3",
   "version": "3.7.7"
  }
 },
 "nbformat": 4,
 "nbformat_minor": 4
}
